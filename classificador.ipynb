{
 "cells": [
  {
   "cell_type": "code",
   "execution_count": 1,
   "id": "8e5175d9",
   "metadata": {},
   "outputs": [],
   "source": [
    "import pyspark\n",
    "from pyspark.sql import *\n",
    "import pyspark.sql.functions as f\n",
    "from pyspark.ml.fpm import FPGrowth"
   ]
  },
  {
   "cell_type": "code",
   "execution_count": 2,
   "id": "d22c4a22",
   "metadata": {},
   "outputs": [],
   "source": [
    "path = \"C:/Users/Gui Mendes/Documents/archive/2017-07_bme280sof.csv\""
   ]
  },
  {
   "cell_type": "code",
   "execution_count": 3,
   "id": "ff9d26fc",
   "metadata": {},
   "outputs": [],
   "source": [
    "spark = SparkSession\\\n",
    "    .builder\\\n",
    "    .appName(\"TP\")\\\n",
    "    .config(\"spark.executor.instances\", \"2\")\\\n",
    "    .config(\"spark.executor.cores\", \"2\")\\\n",
    "    .config(\"spark.executor.memory\", \"2g\")\\\n",
    "    .config(\"spark.driver.memory\", \"2g\")\\\n",
    "    .getOrCreate()"
   ]
  },
  {
   "cell_type": "code",
   "execution_count": 4,
   "id": "5932f6b3",
   "metadata": {},
   "outputs": [],
   "source": [
    "df = spark.read.csv(path, header='true',)"
   ]
  },
  {
   "cell_type": "code",
   "execution_count": 5,
   "id": "bb3d3d11",
   "metadata": {},
   "outputs": [],
   "source": [
    "#df.show(10)\n",
    "#df.schema"
   ]
  },
  {
   "cell_type": "code",
   "execution_count": 6,
   "id": "4add7868",
   "metadata": {},
   "outputs": [],
   "source": [
    "df = df.withColumn(\n",
    "    'ocorrChuva',\n",
    "    f.when((f.col(\"humidity\") <= 60.00) , 0)\\\n",
    "    .otherwise(1))\n",
    "\n",
    "df = df.withColumn(\"timestamp\",f.to_timestamp(f.col(\"timestamp\")))\n",
    "df = df.withColumn(\"date\",f.to_date(f.col(\"timestamp\"),\"yyyy-MM-dd\"))\n",
    "df = df.withColumn('mesAno',f.date_format(f.col('date'), '1/M/yyyy'))\n",
    "#df.show(10)"
   ]
  },
  {
   "cell_type": "code",
   "execution_count": 48,
   "id": "c362c9c5",
   "metadata": {},
   "outputs": [],
   "source": [
    "#Média de chuvas por hora\n",
    "dfOcorrChuvas = df\\\n",
    "    .groupBy(f.hour(\"timestamp\").alias(\"hora\"))\\\n",
    "    .agg(f.avg(\"ocorrChuva\").alias(\"media\"))\n",
    "\n",
    "dfOcorrChuvas = dfOcorrChuvas.withColumn('período', f.when( (f.col('hora') >=0) & (f.col('hora') < 6) , \"Madrugada\").\n",
    "                            otherwise( f.when(   (f.col('hora') >= 6) & (f.col('hora') < 12)  , \"Manhã\").\n",
    "                            otherwise( f.when(   (f.col('hora') >=12) & (f.col('hora') < 18)  , \"Tarde\").\n",
    "                            otherwise( f.when(   (f.col('hora') >= 18) & (f.col('hora') <= 24)  , \"Noite\").\n",
    "                            otherwise('NULL')))))"
   ]
  },
  {
   "cell_type": "code",
   "execution_count": 49,
   "id": "14cde5a5",
   "metadata": {},
   "outputs": [
    {
     "name": "stdout",
     "output_type": "stream",
     "text": [
      "+----+-------------------+---------+\n",
      "|hora|media              |período  |\n",
      "+----+-------------------+---------+\n",
      "|3   |0.744144206483756  |Madrugada|\n",
      "|2   |0.7265909872721018 |Madrugada|\n",
      "|1   |0.6680240914379577 |Madrugada|\n",
      "|0   |0.5979342787019362 |Madrugada|\n",
      "|4   |0.5522310798219278 |Madrugada|\n",
      "|23  |0.5035417725809185 |Noite    |\n",
      "|22  |0.44352521721070304|Noite    |\n",
      "|21  |0.3772652949993187 |Noite    |\n",
      "|5   |0.35908715974704425|Madrugada|\n",
      "|20  |0.3058365758754864 |Noite    |\n",
      "|19  |0.26481770656527936|Noite    |\n",
      "|18  |0.22077966216905143|Noite    |\n",
      "|6   |0.21456733762191327|Manhã    |\n",
      "|17  |0.17519738633269807|Tarde    |\n",
      "|16  |0.17035699686605804|Tarde    |\n",
      "|7   |0.13880061506919528|Manhã    |\n",
      "|15  |0.10927231245956345|Tarde    |\n",
      "|8   |0.08750384839051757|Manhã    |\n",
      "|13  |0.08594633494397039|Tarde    |\n",
      "|14  |0.07887391067538127|Tarde    |\n",
      "+----+-------------------+---------+\n",
      "only showing top 20 rows\n",
      "\n"
     ]
    }
   ],
   "source": [
    "dfOcorrChuvas.sort(dfOcorrChuvas.media.desc()).show(truncate=False)"
   ]
  },
  {
   "cell_type": "code",
   "execution_count": 55,
   "id": "75d19f52",
   "metadata": {
    "collapsed": true
   },
   "outputs": [
    {
     "data": {
      "text/plain": [
       "'\"dfOcorrChuvasCollect = df.where(f.col(\"ocorrChuva\") == 1).groupBy(f.hour(\"timestamp\")).agg(\\n  f.collect_list(f.col(\"humidity\")).alias(\"chumidity\")\\n,f.collect_list(f.col(\"pressure\")).alias(\"cpressure\") \\n)\\ndfOcorrChuvasCollect.show(10)'"
      ]
     },
     "execution_count": 55,
     "metadata": {},
     "output_type": "execute_result"
    }
   ],
   "source": [
    "\"\"\"\"dfOcorrChuvasCollect = df.where(f.col(\"ocorrChuva\") == 1).groupBy(f.hour(\"timestamp\")).agg(\n",
    "  f.collect_list(f.col(\"humidity\")).alias(\"chumidity\")\n",
    ",f.collect_list(f.col(\"pressure\")).alias(\"cpressure\") \n",
    ")\n",
    "dfOcorrChuvasCollect.show(10)\"\"\""
   ]
  },
  {
   "cell_type": "code",
   "execution_count": 56,
   "id": "ee29bd70",
   "metadata": {
    "collapsed": true
   },
   "outputs": [
    {
     "data": {
      "text/plain": [
       "'\"dfMedias = df    .groupBy(f.hour(\"timestamp\").alias(\"hora\"))    .agg(f.avg(\"humidity\").alias(\"mediaH\"),    f.avg(\"pressure\").alias(\"mediaP\"),    f.avg(\"temperature\").alias(\"mediaT\"),    f.avg(\"ocorrChuva\").alias(\"mediaChuvas\"))\\n\\ndfMedias.show()'"
      ]
     },
     "execution_count": 56,
     "metadata": {},
     "output_type": "execute_result"
    }
   ],
   "source": [
    "\"\"\"\"dfMedias = df\\\n",
    "    .groupBy(f.hour(\"timestamp\").alias(\"hora\"))\\\n",
    "    .agg(f.avg(\"humidity\").alias(\"mediaH\"),\\\n",
    "    f.avg(\"pressure\").alias(\"mediaP\"),\\\n",
    "    f.avg(\"temperature\").alias(\"mediaT\"),\\\n",
    "    f.avg(\"ocorrChuva\").alias(\"mediaChuvas\"))\n",
    "\n",
    "dfMedias.show()\"\"\""
   ]
  },
  {
   "cell_type": "code",
   "execution_count": null,
   "id": "80de2e51",
   "metadata": {},
   "outputs": [],
   "source": []
  }
 ],
 "metadata": {
  "kernelspec": {
   "display_name": "Python 3 (ipykernel)",
   "language": "python",
   "name": "python3"
  },
  "language_info": {
   "codemirror_mode": {
    "name": "ipython",
    "version": 3
   },
   "file_extension": ".py",
   "mimetype": "text/x-python",
   "name": "python",
   "nbconvert_exporter": "python",
   "pygments_lexer": "ipython3",
   "version": "3.9.7"
  }
 },
 "nbformat": 4,
 "nbformat_minor": 5
}
